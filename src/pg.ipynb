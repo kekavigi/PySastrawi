{
 "cells": [
  {
   "cell_type": "code",
   "execution_count": 1,
   "metadata": {},
   "outputs": [],
   "source": [
    "import sastrawi as sas"
   ]
  },
  {
   "cell_type": "code",
   "execution_count": 2,
   "metadata": {},
   "outputs": [],
   "source": [
    "a = sas.Stemmer()"
   ]
  },
  {
   "cell_type": "code",
   "execution_count": 3,
   "metadata": {},
   "outputs": [
    {
     "data": {
      "text/plain": [
       "['beradu', []]"
      ]
     },
     "execution_count": 3,
     "metadata": {},
     "output_type": "execute_result"
    }
   ],
   "source": [
    "a.context(\"beradu\")"
   ]
  },
  {
   "cell_type": "code",
   "execution_count": 4,
   "metadata": {},
   "outputs": [],
   "source": [
    "PrefixDisambiguator = sas.rules.PrefixDisambiguator"
   ]
  },
  {
   "cell_type": "code",
   "execution_count": 7,
   "metadata": {},
   "outputs": [
    {
     "name": "stdout",
     "output_type": "stream",
     "text": [
      "1 - 2\n",
      "2 - 1\n",
      "3 - 1\n",
      "4 - 1\n",
      "5 - 1\n",
      "6 - 2\n",
      "7 - 1\n",
      "8 - 1\n",
      "9 - 1\n",
      "10 - 1\n",
      "11 - 1\n",
      "12 - 1\n",
      "13 - 2\n",
      "14 - 1\n",
      "15 - 2\n",
      "16 - 1\n",
      "17 - 4\n",
      "18 - 2\n",
      "19 - 1\n",
      "20 - 1\n",
      "21 - 2\n",
      "23 - 1\n",
      "24 - 1\n",
      "25 - 1\n",
      "26 - 2\n",
      "27 - 1\n",
      "28 - 2\n",
      "29 - 1\n",
      "30 - 3\n",
      "31 - 2\n",
      "32 - 1\n",
      "33 - 1\n",
      "34 - 1\n",
      "35 - 1\n",
      "36 - 1\n",
      "37 - 2\n",
      "38 - 2\n",
      "39 - 2\n",
      "40 - 2\n",
      "41 - 1\n",
      "42 - 1\n"
     ]
    },
    {
     "data": {
      "text/plain": [
       "41"
      ]
     },
     "execution_count": 7,
     "metadata": {},
     "output_type": "execute_result"
    }
   ],
   "source": [
    "tmp = []\n",
    "\n",
    "for _num in range(1, 43):\n",
    "    # group rule(s) by its number\n",
    "    _rules = [\n",
    "        getattr(PrefixDisambiguator, rule)\n",
    "        for rule in dir(PrefixDisambiguator)\n",
    "        if str(_num).zfill(2) in rule\n",
    "    ]\n",
    "\n",
    "    if _rules:\n",
    "        print(_num,'-', len(_rules))\n",
    "        tmp.append(\n",
    "            lambda context: _visit(_rules, context)\n",
    "        )\n",
    "\n",
    "len(tmp)"
   ]
  },
  {
   "cell_type": "code",
   "execution_count": null,
   "metadata": {},
   "outputs": [],
   "source": []
  }
 ],
 "metadata": {
  "kernelspec": {
   "display_name": ".venv",
   "language": "python",
   "name": "python3"
  },
  "language_info": {
   "codemirror_mode": {
    "name": "ipython",
    "version": 3
   },
   "file_extension": ".py",
   "mimetype": "text/x-python",
   "name": "python",
   "nbconvert_exporter": "python",
   "pygments_lexer": "ipython3",
   "version": "3.11.2"
  }
 },
 "nbformat": 4,
 "nbformat_minor": 2
}
